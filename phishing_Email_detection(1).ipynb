{
  "nbformat": 4,
  "nbformat_minor": 0,
  "metadata": {
    "colab": {
      "provenance": [],
      "gpuType": "T4"
    },
    "kernelspec": {
      "name": "python3",
      "display_name": "Python 3"
    },
    "language_info": {
      "name": "python"
    },
    "accelerator": "GPU"
  },
  "cells": [
    {
      "cell_type": "code",
      "execution_count": null,
      "metadata": {
        "id": "w420jGHmKAFq"
      },
      "outputs": [],
      "source": [
        "import tensorflow as tf\n",
        "from tensorflow.keras.preprocessing.text import Tokenizer\n",
        "from tensorflow.keras.preprocessing.sequence import pad_sequences\n",
        "from tensorflow.keras.models import Sequential\n",
        "from tensorflow.keras.layers import Embedding, Conv1D, MaxPooling1D, Dense, Flatten\n",
        "from sklearn.model_selection import train_test_split\n",
        "import pandas as pd"
      ]
    },
    {
      "cell_type": "code",
      "source": [
        "dataset_path = 'Phishing_Email.csv'\n",
        "df = pd.read_csv(dataset_path)\n",
        "emails = df['Email Text'].astype(str).values\n",
        "labels = (df['Email Type'] == 'Safe Email').astype(int).values"
      ],
      "metadata": {
        "id": "Jbq6s5nDKD5W"
      },
      "execution_count": null,
      "outputs": []
    },
    {
      "cell_type": "code",
      "source": [
        "tokenizer = Tokenizer(num_words=10000)\n",
        "tokenizer.fit_on_texts(emails)\n",
        "sequences = tokenizer.texts_to_sequences(emails)\n",
        "data = pad_sequences(sequences, maxlen=500)\n",
        "\n",
        "train_data, test_data, train_labels, test_labels = train_test_split(data, labels, test_size=0.2, random_state=42)\n"
      ],
      "metadata": {
        "id": "rVRTgRwWKHJ5"
      },
      "execution_count": null,
      "outputs": []
    },
    {
      "cell_type": "code",
      "source": [
        "model = Sequential()\n",
        "model.add(Embedding(10000, 128, input_length=500))\n",
        "model.add(Conv1D(32, 7, activation='relu'))\n",
        "model.add(MaxPooling1D(5))\n",
        "model.add(Conv1D(32, 7, activation='relu'))\n",
        "model.add(MaxPooling1D(5))\n",
        "model.add(Flatten())\n",
        "model.add(Dense(1, activation='sigmoid'))\n",
        "\n",
        "\n",
        "model.compile(optimizer='rmsprop', loss='binary_crossentropy', metrics=['acc'])\n"
      ],
      "metadata": {
        "id": "uszAZ4HlKSdk"
      },
      "execution_count": null,
      "outputs": []
    },
    {
      "cell_type": "code",
      "source": [
        "model.fit(train_data, train_labels, epochs=10, batch_size=32, validation_split=0.2)\n",
        "\n",
        "test_loss, test_acc = model.evaluate(test_data, test_labels)\n",
        "print(f'Test accuracy: {test_acc}')"
      ],
      "metadata": {
        "colab": {
          "base_uri": "https://localhost:8080/"
        },
        "id": "l7UNJmvxKZYr",
        "outputId": "5f38e2dd-093c-488c-a0fb-ca84240e2843"
      },
      "execution_count": null,
      "outputs": [
        {
          "output_type": "stream",
          "name": "stdout",
          "text": [
            "Epoch 1/10\n",
            "373/373 [==============================] - 43s 113ms/step - loss: 0.2990 - acc: 0.8530 - val_loss: 0.1528 - val_acc: 0.9410\n",
            "Epoch 2/10\n",
            "373/373 [==============================] - 41s 109ms/step - loss: 0.1088 - acc: 0.9553 - val_loss: 0.1453 - val_acc: 0.9460\n",
            "Epoch 3/10\n",
            "373/373 [==============================] - 41s 111ms/step - loss: 0.0793 - acc: 0.9642 - val_loss: 0.1527 - val_acc: 0.9494\n",
            "Epoch 4/10\n",
            "373/373 [==============================] - 42s 112ms/step - loss: 0.0702 - acc: 0.9680 - val_loss: 0.1672 - val_acc: 0.9521\n",
            "Epoch 5/10\n",
            "373/373 [==============================] - 40s 106ms/step - loss: 0.0610 - acc: 0.9708 - val_loss: 0.1879 - val_acc: 0.9474\n",
            "Epoch 6/10\n",
            "373/373 [==============================] - 40s 107ms/step - loss: 0.0563 - acc: 0.9727 - val_loss: 0.1839 - val_acc: 0.9467\n",
            "Epoch 7/10\n",
            "373/373 [==============================] - 42s 114ms/step - loss: 0.0513 - acc: 0.9739 - val_loss: 0.1949 - val_acc: 0.9484\n",
            "Epoch 8/10\n",
            "373/373 [==============================] - 41s 110ms/step - loss: 0.0501 - acc: 0.9743 - val_loss: 0.2139 - val_acc: 0.9487\n",
            "Epoch 9/10\n",
            "373/373 [==============================] - 44s 118ms/step - loss: 0.0490 - acc: 0.9742 - val_loss: 0.2216 - val_acc: 0.9484\n",
            "Epoch 10/10\n",
            "373/373 [==============================] - 42s 111ms/step - loss: 0.0463 - acc: 0.9746 - val_loss: 0.2321 - val_acc: 0.9464\n",
            "117/117 [==============================] - 2s 21ms/step - loss: 0.2516 - acc: 0.9488\n",
            "Test accuracy: 0.9487935900688171\n"
          ]
        }
      ]
    },
    {
      "cell_type": "code",
      "source": [
        "import numpy as np\n",
        "\n",
        "def predict_phishing(email):\n",
        "\n",
        "    sequence = tokenizer.texts_to_sequences([email])\n",
        "\n",
        "    padded_sequence = pad_sequences(sequence, maxlen=500)\n",
        "\n",
        "    prediction = model.predict(np.array(padded_sequence))\n",
        "\n",
        "    return 'Phishing' if prediction[0][0] > 0.5 else 'Not Phishing'\n",
        "\n",
        "# Example usage:\n",
        "new_email = \"Congratulations! You've won a $1,000 Walmart gift card. Go to http://bit.ly/123456 tp claim now.\"\n",
        "result = predict_phishing(new_email)\n",
        "print(f'The email is predicted as: {result}')"
      ],
      "metadata": {
        "colab": {
          "base_uri": "https://localhost:8080/"
        },
        "id": "k_DJ6zvQK0SD",
        "outputId": "3819ca32-bff9-44ca-ed5c-f39067a4d862"
      },
      "execution_count": null,
      "outputs": [
        {
          "output_type": "stream",
          "name": "stdout",
          "text": [
            "1/1 [==============================] - 0s 113ms/step\n",
            "The email is predicted as: Phishing\n"
          ]
        }
      ]
    },
    {
      "cell_type": "code",
      "source": [
        "new_email = \"Hi there, yes! We just released the newest version of those shoes yesterday. (Skyrider V2.) Here’s the link >> www.shoes.SkyriderV2.com — Tommy, Customer Service Representative @ AllPath Shoes\"\n",
        "result = predict_phishing(new_email)\n",
        "print(f'The email is predicted as: {result}')"
      ],
      "metadata": {
        "colab": {
          "base_uri": "https://localhost:8080/"
        },
        "id": "Pz6estUxVTAD",
        "outputId": "3772173a-1e94-4a51-89d7-4474e55c9105"
      },
      "execution_count": null,
      "outputs": [
        {
          "output_type": "stream",
          "name": "stdout",
          "text": [
            "1/1 [==============================] - 0s 21ms/step\n",
            "The email is predicted as: Phishing\n"
          ]
        }
      ]
    },
    {
      "cell_type": "code",
      "source": [
        "new_email = \"hi [mohammed],We recently detected an unusual login attempt to your account. To ensure the security of your account, we recommend that you review the details below:- **Date and Time:** [3/4/2024]- **Location:** [158.142.32.145]- **Device:** [Asus TUF Gaming]If you recognize this activity, you can ignore this email. However, if you did not initiate this login, please take the following steps immediately:1. Change your password by visiting our secure website: [Link to Password Reset]2. Enable two-factor authentication (2FA) for an added layer of security.Thank you for helping us keep your account safe.Best regards,[google] Security Team\"\n",
        "result = predict_phishing(new_email)\n",
        "print(f'The email is predicted as: {result}')"
      ],
      "metadata": {
        "colab": {
          "base_uri": "https://localhost:8080/"
        },
        "id": "hxYuoUwsW8m4",
        "outputId": "99169756-c364-4d81-bc6b-ed1dd3359be2"
      },
      "execution_count": null,
      "outputs": [
        {
          "output_type": "stream",
          "name": "stdout",
          "text": [
            "1/1 [==============================] - 0s 20ms/step\n",
            "The email is predicted as: Not Phishing\n"
          ]
        }
      ]
    },
    {
      "cell_type": "code",
      "source": [
        "new_email = \"We couldn’t process the October Netflix monthly payment, and the account is on hold, temporarily. Please update your billing information at: billingproblem0477.in to avoid any restrictions to your account and full access to Netflix.IGNODYFS70Y8 NET-MEMBER.7:46 AM\"\n",
        "result = predict_phishing(new_email)\n",
        "print(f'The email is predicted as: {result}')"
      ],
      "metadata": {
        "colab": {
          "base_uri": "https://localhost:8080/"
        },
        "id": "uK7fYSU_YVkO",
        "outputId": "8210ad45-49bf-4bcc-883d-d1218b25479d"
      },
      "execution_count": null,
      "outputs": [
        {
          "output_type": "stream",
          "name": "stdout",
          "text": [
            "1/1 [==============================] - 0s 21ms/step\n",
            "The email is predicted as: Phishing\n"
          ]
        }
      ]
    },
    {
      "cell_type": "code",
      "source": [
        "new_email = \"Deer subscription ,Amazon is sending you a refund of $32.64. Please reply with your bank account and routing number to receive your refund\"\n",
        "result = predict_phishing(new_email)\n",
        "print(f'The email is predicted as: {result}')"
      ],
      "metadata": {
        "id": "4pCqsAmCZvQb",
        "colab": {
          "base_uri": "https://localhost:8080/"
        },
        "outputId": "de93a997-6e3f-455f-87ea-6a44263d214f"
      },
      "execution_count": null,
      "outputs": [
        {
          "output_type": "stream",
          "name": "stdout",
          "text": [
            "1/1 [==============================] - 0s 26ms/step\n",
            "The email is predicted as: Phishing\n"
          ]
        }
      ]
    },
    {
      "cell_type": "code",
      "source": [
        "new_email = \"Hi Mohammed Nemr (@mohammednemr),We noticed a new login to your HF account. Here are the details:Location: Syria (Approximate location)Time: 30 May 2024 07:14 AM..AM UTC If you logged in to your account recently, there's nothing for you to do right now.If you don't recognize this login, we recommend you change your password to a strong one you haven't used before by clicking here. You can also reply to this email directly if you need further assistance.Cheers,The Hugging Face team\"\n",
        "result = predict_phishing(new_email)\n",
        "print(f'The email is predicted as: {result}')"
      ],
      "metadata": {
        "colab": {
          "base_uri": "https://localhost:8080/"
        },
        "id": "brZaYWf9CmOZ",
        "outputId": "ff4584d7-044e-42f0-c580-92081763748e"
      },
      "execution_count": null,
      "outputs": [
        {
          "output_type": "stream",
          "name": "stdout",
          "text": [
            "1/1 [==============================] - 0s 20ms/step\n",
            "The email is predicted as: Not Phishing\n"
          ]
        }
      ]
    },
    {
      "cell_type": "code",
      "source": [
        "!pip install waitress\n",
        "!pip install flask\n",
        "from flask import Flask, request, jsonify\n",
        "app = Flask(__name__)\n",
        "\n",
        "@app.route('/predict', methods=['POST'])\n",
        "def predict():\n",
        "    email = request.json['email']\n",
        "    result = predict_phishing(email)\n",
        "    return jsonify({'prediction': result})\n",
        "\n",
        "if __name__ == '__main__':\n",
        "    from waitress import serve\n",
        "    serve(app, host=\"0.0.0.0\", port=8081)\n",
        "    app.run(debug=True)\n"
      ],
      "metadata": {
        "colab": {
          "base_uri": "https://localhost:8080/"
        },
        "id": "mLsLEFGt0SPH",
        "outputId": "b930fe54-f727-43fc-f870-e965aef1097f"
      },
      "execution_count": null,
      "outputs": [
        {
          "output_type": "stream",
          "name": "stdout",
          "text": [
            "Requirement already satisfied: waitress in /usr/local/lib/python3.10/dist-packages (3.0.0)\n",
            "Requirement already satisfied: flask in /usr/local/lib/python3.10/dist-packages (2.2.5)\n",
            "Requirement already satisfied: Werkzeug>=2.2.2 in /usr/local/lib/python3.10/dist-packages (from flask) (3.0.3)\n",
            "Requirement already satisfied: Jinja2>=3.0 in /usr/local/lib/python3.10/dist-packages (from flask) (3.1.4)\n",
            "Requirement already satisfied: itsdangerous>=2.0 in /usr/local/lib/python3.10/dist-packages (from flask) (2.2.0)\n",
            "Requirement already satisfied: click>=8.0 in /usr/local/lib/python3.10/dist-packages (from flask) (8.1.7)\n",
            "Requirement already satisfied: MarkupSafe>=2.0 in /usr/local/lib/python3.10/dist-packages (from Jinja2>=3.0->flask) (2.1.5)\n",
            " * Serving Flask app '__main__'\n",
            " * Debug mode: on\n"
          ]
        },
        {
          "output_type": "stream",
          "name": "stderr",
          "text": [
            "INFO:werkzeug:\u001b[31m\u001b[1mWARNING: This is a development server. Do not use it in a production deployment. Use a production WSGI server instead.\u001b[0m\n",
            " * Running on http://127.0.0.1:5000\n",
            "INFO:werkzeug:\u001b[33mPress CTRL+C to quit\u001b[0m\n",
            "INFO:werkzeug: * Restarting with stat\n"
          ]
        }
      ]
    },
    {
      "cell_type": "code",
      "source": [
        "!pip install streamlit\n",
        "import streamlit as st\n",
        "\n",
        "st.title('Phishing Email Prediction')\n",
        "\n",
        "email = st.text_input(\"Enter the email text:\")\n",
        "\n",
        "if st.button('Predict'):\n",
        "    result = predict_phishing(email)\n",
        "    st.write(f'The email is predicted as: {result}')\n"
      ],
      "metadata": {
        "id": "TxQum3660Wyu",
        "colab": {
          "base_uri": "https://localhost:8080/"
        },
        "outputId": "c6658c64-20a6-48e5-9153-930efbb75a4a"
      },
      "execution_count": null,
      "outputs": [
        {
          "output_type": "stream",
          "name": "stdout",
          "text": [
            "Requirement already satisfied: streamlit in /usr/local/lib/python3.10/dist-packages (1.35.0)\n",
            "Requirement already satisfied: altair<6,>=4.0 in /usr/local/lib/python3.10/dist-packages (from streamlit) (4.2.2)\n",
            "Requirement already satisfied: blinker<2,>=1.0.0 in /usr/lib/python3/dist-packages (from streamlit) (1.4)\n",
            "Requirement already satisfied: cachetools<6,>=4.0 in /usr/local/lib/python3.10/dist-packages (from streamlit) (5.3.3)\n",
            "Requirement already satisfied: click<9,>=7.0 in /usr/local/lib/python3.10/dist-packages (from streamlit) (8.1.7)\n",
            "Requirement already satisfied: numpy<2,>=1.19.3 in /usr/local/lib/python3.10/dist-packages (from streamlit) (1.25.2)\n",
            "Requirement already satisfied: packaging<25,>=16.8 in /usr/local/lib/python3.10/dist-packages (from streamlit) (24.0)\n",
            "Requirement already satisfied: pandas<3,>=1.3.0 in /usr/local/lib/python3.10/dist-packages (from streamlit) (2.0.3)\n",
            "Requirement already satisfied: pillow<11,>=7.1.0 in /usr/local/lib/python3.10/dist-packages (from streamlit) (9.4.0)\n",
            "Requirement already satisfied: protobuf<5,>=3.20 in /usr/local/lib/python3.10/dist-packages (from streamlit) (3.20.3)\n",
            "Requirement already satisfied: pyarrow>=7.0 in /usr/local/lib/python3.10/dist-packages (from streamlit) (14.0.2)\n",
            "Requirement already satisfied: requests<3,>=2.27 in /usr/local/lib/python3.10/dist-packages (from streamlit) (2.31.0)\n",
            "Requirement already satisfied: rich<14,>=10.14.0 in /usr/local/lib/python3.10/dist-packages (from streamlit) (13.7.1)\n",
            "Requirement already satisfied: tenacity<9,>=8.1.0 in /usr/local/lib/python3.10/dist-packages (from streamlit) (8.3.0)\n",
            "Requirement already satisfied: toml<2,>=0.10.1 in /usr/local/lib/python3.10/dist-packages (from streamlit) (0.10.2)\n",
            "Requirement already satisfied: typing-extensions<5,>=4.3.0 in /usr/local/lib/python3.10/dist-packages (from streamlit) (4.12.0)\n",
            "Requirement already satisfied: gitpython!=3.1.19,<4,>=3.0.7 in /usr/local/lib/python3.10/dist-packages (from streamlit) (3.1.43)\n",
            "Requirement already satisfied: pydeck<1,>=0.8.0b4 in /usr/local/lib/python3.10/dist-packages (from streamlit) (0.9.1)\n",
            "Requirement already satisfied: tornado<7,>=6.0.3 in /usr/local/lib/python3.10/dist-packages (from streamlit) (6.3.3)\n",
            "Requirement already satisfied: watchdog>=2.1.5 in /usr/local/lib/python3.10/dist-packages (from streamlit) (4.0.1)\n",
            "Requirement already satisfied: entrypoints in /usr/local/lib/python3.10/dist-packages (from altair<6,>=4.0->streamlit) (0.4)\n",
            "Requirement already satisfied: jinja2 in /usr/local/lib/python3.10/dist-packages (from altair<6,>=4.0->streamlit) (3.1.4)\n",
            "Requirement already satisfied: jsonschema>=3.0 in /usr/local/lib/python3.10/dist-packages (from altair<6,>=4.0->streamlit) (4.19.2)\n",
            "Requirement already satisfied: toolz in /usr/local/lib/python3.10/dist-packages (from altair<6,>=4.0->streamlit) (0.12.1)\n",
            "Requirement already satisfied: gitdb<5,>=4.0.1 in /usr/local/lib/python3.10/dist-packages (from gitpython!=3.1.19,<4,>=3.0.7->streamlit) (4.0.11)\n",
            "Requirement already satisfied: python-dateutil>=2.8.2 in /usr/local/lib/python3.10/dist-packages (from pandas<3,>=1.3.0->streamlit) (2.8.2)\n",
            "Requirement already satisfied: pytz>=2020.1 in /usr/local/lib/python3.10/dist-packages (from pandas<3,>=1.3.0->streamlit) (2023.4)\n",
            "Requirement already satisfied: tzdata>=2022.1 in /usr/local/lib/python3.10/dist-packages (from pandas<3,>=1.3.0->streamlit) (2024.1)\n",
            "Requirement already satisfied: charset-normalizer<4,>=2 in /usr/local/lib/python3.10/dist-packages (from requests<3,>=2.27->streamlit) (3.3.2)\n",
            "Requirement already satisfied: idna<4,>=2.5 in /usr/local/lib/python3.10/dist-packages (from requests<3,>=2.27->streamlit) (3.7)\n",
            "Requirement already satisfied: urllib3<3,>=1.21.1 in /usr/local/lib/python3.10/dist-packages (from requests<3,>=2.27->streamlit) (2.0.7)\n",
            "Requirement already satisfied: certifi>=2017.4.17 in /usr/local/lib/python3.10/dist-packages (from requests<3,>=2.27->streamlit) (2024.2.2)\n",
            "Requirement already satisfied: markdown-it-py>=2.2.0 in /usr/local/lib/python3.10/dist-packages (from rich<14,>=10.14.0->streamlit) (3.0.0)\n",
            "Requirement already satisfied: pygments<3.0.0,>=2.13.0 in /usr/local/lib/python3.10/dist-packages (from rich<14,>=10.14.0->streamlit) (2.16.1)\n",
            "Requirement already satisfied: smmap<6,>=3.0.1 in /usr/local/lib/python3.10/dist-packages (from gitdb<5,>=4.0.1->gitpython!=3.1.19,<4,>=3.0.7->streamlit) (5.0.1)\n",
            "Requirement already satisfied: MarkupSafe>=2.0 in /usr/local/lib/python3.10/dist-packages (from jinja2->altair<6,>=4.0->streamlit) (2.1.5)\n",
            "Requirement already satisfied: attrs>=22.2.0 in /usr/local/lib/python3.10/dist-packages (from jsonschema>=3.0->altair<6,>=4.0->streamlit) (23.2.0)\n",
            "Requirement already satisfied: jsonschema-specifications>=2023.03.6 in /usr/local/lib/python3.10/dist-packages (from jsonschema>=3.0->altair<6,>=4.0->streamlit) (2023.12.1)\n",
            "Requirement already satisfied: referencing>=0.28.4 in /usr/local/lib/python3.10/dist-packages (from jsonschema>=3.0->altair<6,>=4.0->streamlit) (0.35.1)\n",
            "Requirement already satisfied: rpds-py>=0.7.1 in /usr/local/lib/python3.10/dist-packages (from jsonschema>=3.0->altair<6,>=4.0->streamlit) (0.18.1)\n",
            "Requirement already satisfied: mdurl~=0.1 in /usr/local/lib/python3.10/dist-packages (from markdown-it-py>=2.2.0->rich<14,>=10.14.0->streamlit) (0.1.2)\n",
            "Requirement already satisfied: six>=1.5 in /usr/local/lib/python3.10/dist-packages (from python-dateutil>=2.8.2->pandas<3,>=1.3.0->streamlit) (1.16.0)\n"
          ]
        }
      ]
    },
    {
      "cell_type": "code",
      "source": [],
      "metadata": {
        "id": "E7ReWCqdQyoj"
      },
      "execution_count": null,
      "outputs": []
    }
  ]
}